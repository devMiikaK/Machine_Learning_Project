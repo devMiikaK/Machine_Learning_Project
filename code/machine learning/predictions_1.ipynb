{
 "cells": [
  {
   "cell_type": "code",
   "execution_count": 1,
   "metadata": {},
   "outputs": [],
   "source": [
    "import pandas as pd\n",
    "from sklearn.model_selection import train_test_split\n",
    "from sklearn.linear_model import LogisticRegression\n",
    "from sklearn.metrics import roc_auc_score\n",
    "from sqlalchemy import create_engine\n",
    "import ipywidgets as widgets\n",
    "from IPython.display import display, clear_output, HTML\n",
    "db_name = \"timescale\"\n",
    "db_user = \"admin\"\n",
    "db_password = \"TimescalePassword\"\n",
    "db_host = \"localhost\"\n",
    "db_port = \"5433\"\n",
    "database_uri = f\"postgresql://{db_user}:{db_password}@{db_host}:{db_port}/{db_name}\"\n",
    "engine = create_engine(database_uri)\n",
    "df = pd.read_sql(\"SELECT * FROM filteredsensordatagrid\", engine)\n",
    "\n",
    "sections = [\"Vihannekset\", \"Hedelmät\", \"Viljatuotteet\", \"Einekset\", \"Lihatuotteet\", \"Kuivatuotteet\", \"Välipalat\", \"Virvokkeet\", \"Maitotuotteet\", \"WC-paperit\", \"Pesuaineet\", \"Hygieniatuotteet\", \"Makeiset\", \"Pakasteet\", \"Lemmikkien ruuat\", \"Pulloautomaatti\"]\n"
   ]
  },
  {
   "cell_type": "code",
   "execution_count": 2,
   "metadata": {},
   "outputs": [
    {
     "data": {
      "application/vnd.jupyter.widget-view+json": {
       "model_id": "cc8693c75ab94608acafbeeb6e58730e",
       "version_major": 2,
       "version_minor": 0
      },
      "text/plain": [
       "HTML(value=\"<h2 style='font-size:20px'>logistic regression</h2>\")"
      ]
     },
     "metadata": {},
     "output_type": "display_data"
    },
    {
     "data": {
      "application/vnd.jupyter.widget-view+json": {
       "model_id": "6cab5fdea2a040b8809699d967d351e8",
       "version_major": 2,
       "version_minor": 0
      },
      "text/plain": [
       "Dropdown(description='osasto X:', options=('Vihannekset', 'Hedelmät', 'Viljatuotteet', 'Einekset', 'Lihatuotte…"
      ]
     },
     "metadata": {},
     "output_type": "display_data"
    },
    {
     "data": {
      "application/vnd.jupyter.widget-view+json": {
       "model_id": "e6e67dea9a7047c58ea3ca77e39bdae1",
       "version_major": 2,
       "version_minor": 0
      },
      "text/plain": [
       "Dropdown(description='osasto Y:', options=('Vihannekset', 'Hedelmät', 'Viljatuotteet', 'Einekset', 'Lihatuotte…"
      ]
     },
     "metadata": {},
     "output_type": "display_data"
    },
    {
     "data": {
      "application/vnd.jupyter.widget-view+json": {
       "model_id": "5a400941ecda4febbe030a90ef9c93c4",
       "version_major": 2,
       "version_minor": 0
      },
      "text/plain": [
       "Button(description='laske Tn', style=ButtonStyle())"
      ]
     },
     "metadata": {},
     "output_type": "display_data"
    },
    {
     "data": {
      "application/vnd.jupyter.widget-view+json": {
       "model_id": "fc1aadc967894b18ac3a8ec9cd5b7744",
       "version_major": 2,
       "version_minor": 0
      },
      "text/plain": [
       "Output()"
      ]
     },
     "metadata": {},
     "output_type": "display_data"
    }
   ],
   "source": [
    "title = widgets.HTML(\n",
    "    value=\"<h2 style='font-size:20px'>logistic regression</h2>\",\n",
    ")\n",
    "osasto_X_dropdown = widgets.Dropdown(options=sections, description=\"osasto X:\")\n",
    "osasto_Y_dropdown = widgets.Dropdown(options=sections, description=\"osasto Y:\")\n",
    "button = widgets.Button(description=\"laske Tn\")\n",
    "output = widgets.Output()\n",
    "\n",
    "def nappi(b):\n",
    "    with output:\n",
    "        clear_output(wait=True)\n",
    "        osasto_X = osasto_X_dropdown.value\n",
    "        osasto_Y = osasto_Y_dropdown.value\n",
    "        \n",
    "        X = df[[osasto_X]]  # jos käyt osastolla x...\n",
    "        y = df[osasto_Y]    # target\n",
    "\n",
    "        #datan jako\n",
    "        X_train, X_test, y_train, y_test = train_test_split(X, y, test_size=0.2, random_state=42)\n",
    "\n",
    "        #regressio\n",
    "        model = LogisticRegression()\n",
    "        model.fit(X_train, y_train)\n",
    "\n",
    "        # ennustus\n",
    "        prob = model.predict_proba([[1]])[0, 1]  # Tn että käyt osastolla Y jos käyt osastolla X\n",
    "        print(f\"TN sille, että käyt osastolla '{osasto_Y}' jos käyt osastolla '{osasto_X}': [{prob:.2f}]\")\n",
    "\n",
    "        # AUC\n",
    "        tn_y = model.predict_proba(X_test)[:, 1]\n",
    "        auc = roc_auc_score(y_test, tn_y)\n",
    "        print(f\"\\nAUC Score: [{auc:.2f}]\")\n",
    "        print(\"\\nAUC = 0.5: sama kuin arvaus\\nAUC 0.6 - 0.7: heikko\\nAUC 0.7 - 0.8: OK\\nAUC 0.8 - 0.9: hyvä\\nAUC 0.9 - 1.0: erinomainen\")\n",
    "\n",
    "\n",
    "button.on_click(nappi)\n",
    "display(title, osasto_X_dropdown, osasto_Y_dropdown, button, output)"
   ]
  }
 ],
 "metadata": {
  "kernelspec": {
   "display_name": "Python 3",
   "language": "python",
   "name": "python3"
  },
  "language_info": {
   "codemirror_mode": {
    "name": "ipython",
    "version": 3
   },
   "file_extension": ".py",
   "mimetype": "text/x-python",
   "name": "python",
   "nbconvert_exporter": "python",
   "pygments_lexer": "ipython3",
   "version": "3.10.0"
  }
 },
 "nbformat": 4,
 "nbformat_minor": 2
}
