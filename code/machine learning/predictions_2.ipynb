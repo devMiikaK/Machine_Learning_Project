{
 "cells": [
  {
   "cell_type": "code",
   "execution_count": 3,
   "metadata": {},
   "outputs": [],
   "source": [
    "import pandas as pd\n",
    "from sklearn.model_selection import train_test_split\n",
    "from sklearn.ensemble import RandomForestRegressor\n",
    "from sklearn.metrics import mean_squared_error\n",
    "import numpy as np\n",
    "from sqlalchemy import create_engine\n",
    "\n",
    "db_name = \"timescale\"\n",
    "db_user = \"admin\"\n",
    "db_password = \"TimescalePassword\"\n",
    "db_host = \"localhost\"\n",
    "db_port = \"5433\"\n",
    "database_uri = f\"postgresql://{db_user}:{db_password}@{db_host}:{db_port}/{db_name}\"\n",
    "engine = create_engine(database_uri)\n",
    "df2 = pd.read_sql(\"SELECT * FROM filteredsensordatagrid\", engine)"
   ]
  },
  {
   "cell_type": "code",
   "execution_count": 4,
   "metadata": {},
   "outputs": [
    {
     "name": "stdout",
     "output_type": "stream",
     "text": [
      "route length prediction: 238.43 units\n"
     ]
    }
   ],
   "source": [
    "df2 = pd.read_sql(\"SELECT kesto, tunti, matka FROM filteredsensordatagrid\", engine)\n",
    "df2[\"kesto\"] = pd.to_timedelta(df2[\"kesto\"]).dt.total_seconds()\n",
    "df2 = df2.dropna()\n",
    "X = df2.drop(\"matka\", axis=1)\n",
    "y = df2[\"matka\"]\n",
    "\n",
    "X_train, X_test, y_train, y_test = train_test_split(X, y, test_size=0.2, random_state=42)\n",
    "model = RandomForestRegressor(n_estimators=100, random_state=42)\n",
    "model.fit(X_train, y_train)\n",
    "\n",
    "y_pred = model.predict(X_test)\n",
    "mse = mean_squared_error(y_test, y_pred)\n",
    "rmse = np.sqrt(mse)\n",
    "\n",
    "new_data = pd.DataFrame([[3600, 12]], columns=[\"kesto\", \"tunti\"])\n",
    "predicted_length = model.predict(new_data)\n",
    "print(f\"route length prediction: {predicted_length[0]} units\")"
   ]
  },
  {
   "cell_type": "code",
   "execution_count": null,
   "metadata": {},
   "outputs": [],
   "source": []
  }
 ],
 "metadata": {
  "kernelspec": {
   "display_name": "Python 3",
   "language": "python",
   "name": "python3"
  },
  "language_info": {
   "codemirror_mode": {
    "name": "ipython",
    "version": 3
   },
   "file_extension": ".py",
   "mimetype": "text/x-python",
   "name": "python",
   "nbconvert_exporter": "python",
   "pygments_lexer": "ipython3",
   "version": "3.10.0"
  }
 },
 "nbformat": 4,
 "nbformat_minor": 2
}
