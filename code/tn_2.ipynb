{
 "cells": [
  {
   "cell_type": "code",
   "execution_count": 1,
   "metadata": {},
   "outputs": [
    {
     "data": {
      "application/vnd.jupyter.widget-view+json": {
       "model_id": "6a38867cdbf442f2bb6027a48ddaa9a4",
       "version_major": 2,
       "version_minor": 0
      },
      "text/plain": [
       "Dropdown(description='osasto:', options=('Vihannekset', 'Hedelmät', 'Viljatuotteet', 'Einekset', 'Lihatuotteet…"
      ]
     },
     "metadata": {},
     "output_type": "display_data"
    },
    {
     "data": {
      "application/vnd.jupyter.widget-view+json": {
       "model_id": "65d290f6ef6c46349a464f5a4b4f2faa",
       "version_major": 2,
       "version_minor": 0
      },
      "text/plain": [
       "Dropdown(description='viikonpäivä:', options=(0, 1, 2, 3, 4, 5, 6), value=0)"
      ]
     },
     "metadata": {},
     "output_type": "display_data"
    },
    {
     "data": {
      "application/vnd.jupyter.widget-view+json": {
       "model_id": "9e8a18af63b54c48ab8a2df554794556",
       "version_major": 2,
       "version_minor": 0
      },
      "text/plain": [
       "Dropdown(description='kellonaika:', options=(0, 1, 2, 3, 4, 5, 6, 7, 8, 9, 10, 11, 12, 13, 14, 15, 16, 17, 18,…"
      ]
     },
     "metadata": {},
     "output_type": "display_data"
    },
    {
     "data": {
      "application/vnd.jupyter.widget-view+json": {
       "model_id": "5590359f91fd4193912afe637e6d78f0",
       "version_major": 2,
       "version_minor": 0
      },
      "text/plain": [
       "Button(description='laske tn', style=ButtonStyle())"
      ]
     },
     "metadata": {},
     "output_type": "display_data"
    },
    {
     "data": {
      "application/vnd.jupyter.widget-view+json": {
       "model_id": "557e172825134b47927509a728d26147",
       "version_major": 2,
       "version_minor": 0
      },
      "text/plain": [
       "Output()"
      ]
     },
     "metadata": {},
     "output_type": "display_data"
    }
   ],
   "source": [
    "import pandas as pd\n",
    "from sklearn.model_selection import train_test_split\n",
    "from sklearn.ensemble import RandomForestRegressor\n",
    "from sklearn.metrics import mean_squared_error\n",
    "import numpy as np\n",
    "from sqlalchemy import create_engine\n",
    "import ipywidgets as widgets\n",
    "from IPython.display import display, clear_output\n",
    "\n",
    "db_name = \"timescale\"\n",
    "db_user = \"admin\"\n",
    "db_password = \"TimescalePassword\"\n",
    "db_host = \"localhost\"\n",
    "db_port = \"5433\"\n",
    "database_uri = f\"postgresql://{db_user}:{db_password}@{db_host}:{db_port}/{db_name}\"\n",
    "engine = create_engine(database_uri)\n",
    "df2 = pd.read_sql(\"SELECT * FROM filteredsensordatagrid\", engine)\n",
    "\n",
    "sections = [\"Vihannekset\", \"Hedelmät\", \"Viljatuotteet\", \"Einekset\", \"Lihatuotteet\", \"Kuivatuotteet\", \"Välipalat\", \"Virvokkeet\", \"Maitotuotteet\", \"WC-paperit\", \"Pesuaineet\", \"Hygieniatuotteet\", \"Makeiset\", \"Pakasteet\", \"Lemmikkien ruuat\", \"Sisäänkäynti\", \"Pulloautomaatti\"]\n",
    "weekdays = [0, 1, 2, 3, 4, 5, 6]  # 0 = maanantai, 6 = sunnuntai\n",
    "ajat = list(range(24))  # 0-23\n",
    "\n",
    "dropdown = widgets.Dropdown(options=sections, description='osasto:')\n",
    "pv_dropdown = widgets.Dropdown(options=weekdays, description='viikonpäivä:')\n",
    "time_dropdown = widgets.Dropdown(options=ajat, description='kellonaika:')\n",
    "nappi = widgets.Button(description='laske tn')\n",
    "output = widgets.Output()\n",
    "\n",
    "def tn(section, weekday, time):\n",
    "    filtered_df = df2[(df2['viikonpaiva'] == weekday) & (df2['tunti'] == time)]         # suodatetaan dataframesta viikonpäivä ja kellonaika\n",
    "    reitit_total = filtered_df.shape[0]                                                 # kauppareissujen määrä\n",
    "    reitit = filtered_df[filtered_df[section] == 1].shape[0]                            # kuinka monta reissua käy osastolla X, (sarakkeet joissa arvo on 1)\n",
    "    probability = reitit / reitit_total if reitit_total > 0 else 0                      # # osastolla X käyneiden reissujen määrä / reissujen määrä\n",
    "    return probability\n",
    "\n",
    "def nappi_clicked(b):\n",
    "    with output:\n",
    "        clear_output(wait=True)\n",
    "        section = dropdown.value\n",
    "        weekday = pv_dropdown.value\n",
    "        time = time_dropdown.value\n",
    "        probability = tn(section, weekday, time)\n",
    "        print(f\"[ {probability:.2f} ] kauppareissuista ovat käyneet osastolla {section}, viikonpäivänä {weekday} klo {time}: \")\n",
    "\n",
    "nappi.on_click(nappi_clicked)\n",
    "display(dropdown, pv_dropdown, time_dropdown, nappi, output)\n"
   ]
  },
  {
   "cell_type": "code",
   "execution_count": null,
   "metadata": {},
   "outputs": [],
   "source": []
  }
 ],
 "metadata": {
  "kernelspec": {
   "display_name": "Python 3",
   "language": "python",
   "name": "python3"
  },
  "language_info": {
   "codemirror_mode": {
    "name": "ipython",
    "version": 3
   },
   "file_extension": ".py",
   "mimetype": "text/x-python",
   "name": "python",
   "nbconvert_exporter": "python",
   "pygments_lexer": "ipython3",
   "version": "3.10.0"
  }
 },
 "nbformat": 4,
 "nbformat_minor": 2
}
