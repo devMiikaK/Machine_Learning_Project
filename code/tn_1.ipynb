{
 "cells": [
  {
   "cell_type": "code",
   "execution_count": 1,
   "metadata": {},
   "outputs": [],
   "source": [
    "import pandas as pd\n",
    "from sklearn.model_selection import train_test_split\n",
    "from sklearn.ensemble import RandomForestRegressor\n",
    "from sklearn.metrics import mean_squared_error\n",
    "import numpy as np\n",
    "from sqlalchemy import create_engine\n",
    "\n",
    "db_name = \"timescale\"\n",
    "db_user = \"admin\"\n",
    "db_password = \"TimescalePassword\"\n",
    "db_host = \"localhost\"\n",
    "db_port = \"5433\"\n",
    "database_uri = f\"postgresql://{db_user}:{db_password}@{db_host}:{db_port}/{db_name}\"\n",
    "engine = create_engine(database_uri)\n",
    "df2 = pd.read_sql(\"SELECT * FROM filteredsensordatagrid\", engine)  # Replace \"your_table_name\" with the actual table name\n"
   ]
  },
  {
   "cell_type": "code",
   "execution_count": 2,
   "metadata": {},
   "outputs": [],
   "source": [
    "import ipywidgets as widgets\n",
    "from IPython.display import display, clear_output\n",
    "#df2 = pd.read_csv(\"/Users/miika/code/dump/final_df.csv\")\n",
    "def tn_laskuri(section1, section2): \n",
    "    total_visits_section1 = df2[section1].sum()                                                 # total visits = monta kertaa osastossa 1 on käyty yhteensä\n",
    "    joint_visits = df2[(df2[section1] == 1) & (df2[section2] == 1)].shape[0]                    # joint visits = monta kertaa osastossa 1 ja 2 on käyty saman reissun aikana\n",
    "    probability = joint_visits / total_visits_section1 if total_visits_section1 != 0 else 0     # probability = joint visits / total visits. \n",
    "    return probability                                                                          # if total_visits_section1 != 0 else 0 // estää nollalla jakamisen, tässä tapauksessa osastolla ei käyty ollenkaan\n"
   ]
  },
  {
   "cell_type": "code",
   "execution_count": 3,
   "metadata": {},
   "outputs": [
    {
     "data": {
      "application/vnd.jupyter.widget-view+json": {
       "model_id": "1dda7e3452ce4f2083ccbe659beb4da0",
       "version_major": 2,
       "version_minor": 0
      },
      "text/plain": [
       "Dropdown(description='osasto 1:', options=('Vihannekset', 'Hedelmät', 'Viljatuotteet', 'Einekset', 'Lihatuotte…"
      ]
     },
     "metadata": {},
     "output_type": "display_data"
    },
    {
     "data": {
      "application/vnd.jupyter.widget-view+json": {
       "model_id": "65d618aca6664e60a9986d5623f2bf3c",
       "version_major": 2,
       "version_minor": 0
      },
      "text/plain": [
       "Dropdown(description='osasto 2:', options=('Vihannekset', 'Hedelmät', 'Viljatuotteet', 'Einekset', 'Lihatuotte…"
      ]
     },
     "metadata": {},
     "output_type": "display_data"
    },
    {
     "data": {
      "application/vnd.jupyter.widget-view+json": {
       "model_id": "b082c3fca8af495993ec4dba7d690a04",
       "version_major": 2,
       "version_minor": 0
      },
      "text/plain": [
       "Button(description='laske', style=ButtonStyle())"
      ]
     },
     "metadata": {},
     "output_type": "display_data"
    },
    {
     "data": {
      "application/vnd.jupyter.widget-view+json": {
       "model_id": "c5c4a854f3a7432db0c792db0595da04",
       "version_major": 2,
       "version_minor": 0
      },
      "text/plain": [
       "Output()"
      ]
     },
     "metadata": {},
     "output_type": "display_data"
    }
   ],
   "source": [
    "store_sections = [\"Vihannekset\", \"Hedelmät\", \"Viljatuotteet\", \"Einekset\", \"Lihatuotteet\", \"Kuivatuotteet\", \"Välipalat\", \"Virvokkeet\", \"Maitotuotteet\", \"WC-paperit\", \"Pesuaineet\", \"Hygieniatuotteet\", \"Makeiset\", \"Pakasteet\", \"Lemmikkien ruuat\", \"Sisäänkäynti\", \"Pulloautomaatti\"]\n",
    "\n",
    "valinta_1 = widgets.Dropdown(options=store_sections, description=\"osasto 1:\")\n",
    "valinta_2 = widgets.Dropdown(options=store_sections, description=\"osasto 2:\")\n",
    "nappi = widgets.Button(description=\"laske\")\n",
    "output = widgets.Output()\n",
    "\n",
    "def on_nappi_clicked(b):\n",
    "    with output:\n",
    "        clear_output(wait=True)\n",
    "        section1 = valinta_1.value\n",
    "        section2 = valinta_2.value\n",
    "        prob = tn_laskuri(section1, section2)\n",
    "        print(f\"todennäköisyys että käyt osastoilla {section2} ja {section1} saman reissun aikana: {prob:.2f}\")\n",
    "\n",
    "nappi.on_click(on_nappi_clicked)\n",
    "display(valinta_1, valinta_2, nappi, output)"
   ]
  },
  {
   "cell_type": "code",
   "execution_count": null,
   "metadata": {},
   "outputs": [],
   "source": []
  }
 ],
 "metadata": {
  "kernelspec": {
   "display_name": "Python 3",
   "language": "python",
   "name": "python3"
  },
  "language_info": {
   "codemirror_mode": {
    "name": "ipython",
    "version": 3
   },
   "file_extension": ".py",
   "mimetype": "text/x-python",
   "name": "python",
   "nbconvert_exporter": "python",
   "pygments_lexer": "ipython3",
   "version": "3.10.0"
  }
 },
 "nbformat": 4,
 "nbformat_minor": 2
}
